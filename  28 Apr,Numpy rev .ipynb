{
 "cells": [
  {
   "cell_type": "markdown",
   "id": "bcebba94-57ca-41eb-aff3-11828d79dd31",
   "metadata": {},
   "source": [
    "## numpy revision "
   ]
  },
  {
   "cell_type": "code",
   "execution_count": 1,
   "id": "0108a203-1859-4f4b-8960-7bb85c07f31d",
   "metadata": {},
   "outputs": [],
   "source": [
    "# introduction to numpy ------->\n",
    "# Numpy is an open - source library of python which is used for handle scientific - calculations ."
   ]
  },
  {
   "cell_type": "code",
   "execution_count": 2,
   "id": "cc23ecda-86d5-447c-983c-b45646490a2f",
   "metadata": {},
   "outputs": [],
   "source": [
    " # !pip install numpy "
   ]
  },
  {
   "cell_type": "code",
   "execution_count": 3,
   "id": "05ab6733-6d3b-4e0b-a93d-d6cd8972a06d",
   "metadata": {},
   "outputs": [],
   "source": [
    "import numpy as np\n"
   ]
  },
  {
   "cell_type": "code",
   "execution_count": 4,
   "id": "b61850eb-9965-4c01-8b9f-2e1600e54771",
   "metadata": {},
   "outputs": [],
   "source": [
    "## why numpy is better than list ?\n",
    "# 1) Numpy is homogenous data type and list is heterogeneous data type .\n",
    "# 2) Numpy takes less memory while list take more memory .\n",
    "# 3) Numpy take less execution time while list take more time then list "
   ]
  },
  {
   "cell_type": "code",
   "execution_count": 5,
   "id": "a06035e8-3d19-4580-86bc-a59651794263",
   "metadata": {},
   "outputs": [
    {
     "data": {
      "text/plain": [
       "list"
      ]
     },
     "execution_count": 5,
     "metadata": {},
     "output_type": "execute_result"
    }
   ],
   "source": [
    "a = [1,2,1,44]\n",
    "type (a)"
   ]
  },
  {
   "cell_type": "code",
   "execution_count": 6,
   "id": "db77c5e7-ab16-419e-bf8e-fd01212ca400",
   "metadata": {},
   "outputs": [
    {
     "data": {
      "text/plain": [
       "array([ 1,  2,  1, 44])"
      ]
     },
     "execution_count": 6,
     "metadata": {},
     "output_type": "execute_result"
    }
   ],
   "source": [
    "b = np.array(a)\n",
    "b"
   ]
  },
  {
   "cell_type": "code",
   "execution_count": 7,
   "id": "8b4438ce-ebd6-4659-ae60-d9e2af9a11bd",
   "metadata": {},
   "outputs": [
    {
     "data": {
      "text/plain": [
       "numpy.ndarray"
      ]
     },
     "execution_count": 7,
     "metadata": {},
     "output_type": "execute_result"
    }
   ],
   "source": [
    "type (b)"
   ]
  },
  {
   "cell_type": "code",
   "execution_count": 8,
   "id": "1a74e745-aed6-40a7-8091-b0101a4fd9b0",
   "metadata": {},
   "outputs": [
    {
     "data": {
      "text/plain": [
       "array([[1, 2, 3],\n",
       "       [4, 5, 6],\n",
       "       [7, 8, 9]])"
      ]
     },
     "execution_count": 8,
     "metadata": {},
     "output_type": "execute_result"
    }
   ],
   "source": [
    "a = [[1,2,3] ,[4,5,6],[7,8,9]]\n",
    "b  = np.array(a)\n",
    "b "
   ]
  },
  {
   "cell_type": "code",
   "execution_count": 9,
   "id": "e42a9fcc-177a-4dd6-89f3-6866661a9f42",
   "metadata": {},
   "outputs": [
    {
     "name": "stdout",
     "output_type": "stream",
     "text": [
      "total row and columns  (3, 3)\n",
      "total elements  9\n",
      "total dimensions  2\n"
     ]
    }
   ],
   "source": [
    "print(\"total row and columns \" , b.shape)\n",
    "print(\"total elements \", b.size)\n",
    "print(\"total dimensions \" , b.ndim)"
   ]
  },
  {
   "cell_type": "code",
   "execution_count": null,
   "id": "82ca3a35-225a-4a9c-80db-6e8fba0d6ab6",
   "metadata": {},
   "outputs": [],
   "source": []
  },
  {
   "cell_type": "markdown",
   "id": "c3ef163b-59b3-4252-9005-0d33cfbc8192",
   "metadata": {},
   "source": [
    "## user defined arrray "
   ]
  },
  {
   "cell_type": "code",
   "execution_count": null,
   "id": "4abd7fdb-d744-447b-91b9-07a9009a22d3",
   "metadata": {},
   "outputs": [],
   "source": []
  },
  {
   "cell_type": "code",
   "execution_count": 11,
   "id": "afe4f1db-0b3d-4cd6-adba-30aa9e35854e",
   "metadata": {},
   "outputs": [
    {
     "name": "stdin",
     "output_type": "stream",
     "text": [
      "enter size: 1\n",
      "enter item  4\n"
     ]
    },
    {
     "data": {
      "text/plain": [
       "array([4])"
      ]
     },
     "execution_count": 11,
     "metadata": {},
     "output_type": "execute_result"
    }
   ],
   "source": [
    "a = []\n",
    "size = int(input(\"enter size:\"))\n",
    "for i in range(size):\n",
    "    val = int(input('enter item '))\n",
    "    a.append(val)\n",
    "\n",
    "# a\n",
    "b = np.array(a)\n",
    "b"
   ]
  },
  {
   "cell_type": "markdown",
   "id": "8cab26ac-b135-4442-90da-5044ce0f2f00",
   "metadata": {},
   "source": [
    "## pre defined functions ."
   ]
  },
  {
   "cell_type": "markdown",
   "id": "436edde6-5508-4be6-8e04-01d8fbadee67",
   "metadata": {},
   "source": [
    "##### array creation functions "
   ]
  },
  {
   "cell_type": "code",
   "execution_count": 12,
   "id": "5b204bb7-e9df-4373-ab36-e57dd91ff2a2",
   "metadata": {},
   "outputs": [],
   "source": [
    "# 1) np.array() – Create an array from a list or tuple.\n",
    "# 2) np.zeros() – Create an array filled with zeros.\n",
    "# 3) np.ones() – Create an array filled with ones.\n",
    "# 4) np.arange() – Create array with regularly spaced values (like Python's range()).\n",
    "# 5) np.linspace() – Create array with evenly spaced numbers over a specified range.\n",
    "#6 )np.eye() – Create identity matrix (ones on the diagonal).\n",
    "\n"
   ]
  },
  {
   "cell_type": "code",
   "execution_count": 13,
   "id": "be8f90ae-2928-4bfa-a681-14906fff416a",
   "metadata": {},
   "outputs": [],
   "source": [
    "# 1) zeroes -> it will create an array in which all the values will be 0 in either one  - dimensions \n",
    "# or multi - dimensions . "
   ]
  },
  {
   "cell_type": "code",
   "execution_count": 14,
   "id": "f302d445-877c-4bf9-b7f7-c23a51eaeb9a",
   "metadata": {},
   "outputs": [
    {
     "data": {
      "text/plain": [
       "array([0., 0., 0.])"
      ]
     },
     "execution_count": 14,
     "metadata": {},
     "output_type": "execute_result"
    }
   ],
   "source": [
    "a = np.zeros(3)\n",
    "a"
   ]
  },
  {
   "cell_type": "code",
   "execution_count": 17,
   "id": "c043b14c-af53-4a4d-b753-2f0cba2bf9a2",
   "metadata": {},
   "outputs": [
    {
     "data": {
      "text/plain": [
       "array([0., 0., 0.])"
      ]
     },
     "execution_count": 17,
     "metadata": {},
     "output_type": "execute_result"
    }
   ],
   "source": [
    "a = np.zeros(3)\n",
    "a"
   ]
  },
  {
   "cell_type": "code",
   "execution_count": 18,
   "id": "0cb8b348-9f8f-4e25-ae81-956b454b5892",
   "metadata": {},
   "outputs": [],
   "source": [
    "# 2) ones () -> it will create an array in which all the values will be 1 in either one - dimesional or multi -dimensional ."
   ]
  },
  {
   "cell_type": "code",
   "execution_count": 19,
   "id": "62380f77-e9bc-4706-a289-2ea968070558",
   "metadata": {},
   "outputs": [
    {
     "data": {
      "text/plain": [
       "array([1., 1.])"
      ]
     },
     "execution_count": 19,
     "metadata": {},
     "output_type": "execute_result"
    }
   ],
   "source": [
    "a = np.ones(2)\n",
    "a"
   ]
  },
  {
   "cell_type": "code",
   "execution_count": 20,
   "id": "9d0257fd-7627-4de0-bc73-81c90bbf5fb0",
   "metadata": {},
   "outputs": [],
   "source": [
    "# 3) eye() --> it will create an array in which diagonal positinaol elementswill be 1 and rest all are 0  "
   ]
  },
  {
   "cell_type": "code",
   "execution_count": 21,
   "id": "2b1aec6a-7a13-4e60-8690-cb09abe00996",
   "metadata": {},
   "outputs": [
    {
     "data": {
      "text/plain": [
       "array([[1., 0., 0.],\n",
       "       [0., 1., 0.],\n",
       "       [0., 0., 1.]])"
      ]
     },
     "execution_count": 21,
     "metadata": {},
     "output_type": "execute_result"
    }
   ],
   "source": [
    "a = np.eye(3) \n",
    "a"
   ]
  },
  {
   "cell_type": "code",
   "execution_count": 22,
   "id": "8921b510-193f-4c50-b71c-12a9582286ff",
   "metadata": {},
   "outputs": [],
   "source": [
    "# (4). diag() ----> Using this method , we can create an array in which we can"
   ]
  },
  {
   "cell_type": "code",
   "execution_count": 23,
   "id": "a44a52b6-725f-4888-85b2-b08c706a201e",
   "metadata": {},
   "outputs": [
    {
     "data": {
      "text/plain": [
       "array([1, 2, 3, 4])"
      ]
     },
     "execution_count": 23,
     "metadata": {},
     "output_type": "execute_result"
    }
   ],
   "source": [
    "a = np.array([1,2,3,4])\n",
    "a"
   ]
  },
  {
   "cell_type": "code",
   "execution_count": 24,
   "id": "7db48517-4994-4205-828b-39937b1d5b48",
   "metadata": {},
   "outputs": [
    {
     "data": {
      "text/plain": [
       "array([[1, 0, 0, 0],\n",
       "       [0, 2, 0, 0],\n",
       "       [0, 0, 3, 0],\n",
       "       [0, 0, 0, 4]])"
      ]
     },
     "execution_count": 24,
     "metadata": {},
     "output_type": "execute_result"
    }
   ],
   "source": [
    "b = np.diag(a)\n",
    "b"
   ]
  },
  {
   "cell_type": "code",
   "execution_count": 25,
   "id": "778d4fec-3c18-4c23-a689-eefc6cf7bdd9",
   "metadata": {},
   "outputs": [
    {
     "data": {
      "text/plain": [
       "array([7, 9, 1])"
      ]
     },
     "execution_count": 25,
     "metadata": {},
     "output_type": "execute_result"
    }
   ],
   "source": [
    "# 5) random module -> \n",
    "# a) randint() --> it will genwrate random variable numbers in a given range .\n",
    "a = np.random.randint(1,10,3)\n",
    "a"
   ]
  },
  {
   "cell_type": "code",
   "execution_count": 26,
   "id": "f53fc0af-ace3-4ec7-8f24-0d8f13e45874",
   "metadata": {},
   "outputs": [],
   "source": [
    "# (b). Rand() ----> It will generate random numbers in range 0-1. "
   ]
  },
  {
   "cell_type": "code",
   "execution_count": 27,
   "id": "af030594-2402-49da-aeee-0ca73a5cc9db",
   "metadata": {},
   "outputs": [
    {
     "data": {
      "text/plain": [
       "array([0.92625161, 0.72199245, 0.22522513, 0.10210313])"
      ]
     },
     "execution_count": 27,
     "metadata": {},
     "output_type": "execute_result"
    }
   ],
   "source": [
    "a = np.random.rand(4)\n",
    "a"
   ]
  },
  {
   "cell_type": "code",
   "execution_count": 28,
   "id": "b82f8bce-c8e9-4cef-bea1-d366c20c6a39",
   "metadata": {},
   "outputs": [],
   "source": [
    "# c) seed() --> it will fix our random generated data ."
   ]
  },
  {
   "cell_type": "code",
   "execution_count": 29,
   "id": "b95c32e8-fc2d-492c-b1cd-1a66c27c7dc5",
   "metadata": {},
   "outputs": [
    {
     "data": {
      "text/plain": [
       "array([8, 9, 6])"
      ]
     },
     "execution_count": 29,
     "metadata": {},
     "output_type": "execute_result"
    }
   ],
   "source": [
    "np.random.seed(55)\n",
    "a = np.random.randint(1,10,3)\n",
    "a"
   ]
  },
  {
   "cell_type": "markdown",
   "id": "e6015690-733d-4df4-9f1e-463b405f9143",
   "metadata": {},
   "source": [
    "\n",
    "## Reshaping the Array \n",
    "n(rows)*n(columns) = n(total_elements )"
   ]
  },
  {
   "cell_type": "code",
   "execution_count": 30,
   "id": "29b02883-6422-4f74-a847-7de1ab922cab",
   "metadata": {},
   "outputs": [],
   "source": [
    "a = np.random.randint(1,50,12)"
   ]
  },
  {
   "cell_type": "code",
   "execution_count": 31,
   "id": "5236d18d-33f3-411c-8c4c-a60ec03e4c9f",
   "metadata": {},
   "outputs": [
    {
     "data": {
      "text/plain": [
       "array([38, 28, 34, 49, 36, 47, 31, 14, 31, 13, 25, 48])"
      ]
     },
     "execution_count": 31,
     "metadata": {},
     "output_type": "execute_result"
    }
   ],
   "source": [
    "a"
   ]
  },
  {
   "cell_type": "code",
   "execution_count": 32,
   "id": "420456ed-80b7-4966-8bec-951bb1804af7",
   "metadata": {},
   "outputs": [
    {
     "data": {
      "text/plain": [
       "12"
      ]
     },
     "execution_count": 32,
     "metadata": {},
     "output_type": "execute_result"
    }
   ],
   "source": [
    "a.size"
   ]
  },
  {
   "cell_type": "code",
   "execution_count": 33,
   "id": "960fffa6-d246-4258-889c-733465461653",
   "metadata": {},
   "outputs": [],
   "source": [
    "# n(rows) * n(columns) = n(total_elements)\n",
    "\n",
    "# TOTAL_ELEMNETS = 12\n",
    "# 1*12 , 12*1\n",
    "# 2*6 , 6*2\n",
    "# 3*4 , 4*3"
   ]
  },
  {
   "cell_type": "code",
   "execution_count": 34,
   "id": "ace0dc45-71e3-4f27-b98b-a1e17a7e9df8",
   "metadata": {},
   "outputs": [
    {
     "data": {
      "text/plain": [
       "array([38, 28, 34, 49, 36, 47, 31, 14, 31, 13, 25, 48])"
      ]
     },
     "execution_count": 34,
     "metadata": {},
     "output_type": "execute_result"
    }
   ],
   "source": [
    "a "
   ]
  },
  {
   "cell_type": "code",
   "execution_count": 35,
   "id": "8b6f0b64-3fc6-4aa7-8f85-18e56874b88d",
   "metadata": {},
   "outputs": [
    {
     "data": {
      "text/plain": [
       "array([[38, 28, 34, 49, 36, 47],\n",
       "       [31, 14, 31, 13, 25, 48]])"
      ]
     },
     "execution_count": 35,
     "metadata": {},
     "output_type": "execute_result"
    }
   ],
   "source": [
    "a.reshape(2,6)"
   ]
  },
  {
   "cell_type": "code",
   "execution_count": null,
   "id": "9f14a235-8b38-45dd-934c-dac73ed9e2ea",
   "metadata": {},
   "outputs": [],
   "source": []
  },
  {
   "cell_type": "markdown",
   "id": "d6aa0ff4-ea98-41ed-83a9-4aaefb7be4f2",
   "metadata": {},
   "source": [
    "## Operation of an Array ."
   ]
  },
  {
   "cell_type": "markdown",
   "id": "e81cc558-5e17-42e1-8a59-6f49f8382716",
   "metadata": {},
   "source": [
    "Type\tExample\n",
    "\n",
    "Arithmetic\t+ - * /\n",
    "\n",
    "Comparison\t< > == !=\n",
    "\n",
    "Aggregate\tsum() mean() min() max()\n",
    "\n",
    "Matrix\tdot() transpose()\n",
    "\n",
    "Universal (math)\tsin() exp() sqrt()"
   ]
  },
  {
   "cell_type": "code",
   "execution_count": 36,
   "id": "9bdac835-cd2b-433e-9c29-6f74296bc1eb",
   "metadata": {},
   "outputs": [
    {
     "data": {
      "text/plain": [
       "array([38, 28, 34, 49, 36, 47, 31, 14, 31, 13, 25, 48])"
      ]
     },
     "execution_count": 36,
     "metadata": {},
     "output_type": "execute_result"
    }
   ],
   "source": [
    "a"
   ]
  },
  {
   "cell_type": "code",
   "execution_count": 37,
   "id": "43fee4ad-f93e-4250-9bdf-236822e21822",
   "metadata": {},
   "outputs": [
    {
     "data": {
      "text/plain": [
       "array([[38, 28, 34, 49],\n",
       "       [36, 47, 31, 14],\n",
       "       [31, 13, 25, 48]])"
      ]
     },
     "execution_count": 37,
     "metadata": {},
     "output_type": "execute_result"
    }
   ],
   "source": [
    "a.reshape(3,4)"
   ]
  },
  {
   "cell_type": "code",
   "execution_count": 38,
   "id": "7ed51eac-2519-41a7-9734-335e150f814d",
   "metadata": {},
   "outputs": [
    {
     "data": {
      "text/plain": [
       "394"
      ]
     },
     "execution_count": 38,
     "metadata": {},
     "output_type": "execute_result"
    }
   ],
   "source": [
    "np.sum(a)"
   ]
  },
  {
   "cell_type": "code",
   "execution_count": 39,
   "id": "19cb92d6-aa94-4dc7-b3e7-b909a17650ec",
   "metadata": {},
   "outputs": [
    {
     "data": {
      "text/plain": [
       "394"
      ]
     },
     "execution_count": 39,
     "metadata": {},
     "output_type": "execute_result"
    }
   ],
   "source": [
    "np.sum(a,axis = 0) # it returns the sum column wise "
   ]
  },
  {
   "cell_type": "code",
   "execution_count": 40,
   "id": "835286c0-6613-49bb-9e95-26a84ebe0055",
   "metadata": {},
   "outputs": [],
   "source": [
    "a = np.arange(1,5).reshape(2,2)"
   ]
  },
  {
   "cell_type": "code",
   "execution_count": 41,
   "id": "a076ae47-a4d2-4014-b486-4684156d0428",
   "metadata": {},
   "outputs": [
    {
     "data": {
      "text/plain": [
       "array([[1, 2],\n",
       "       [3, 4]])"
      ]
     },
     "execution_count": 41,
     "metadata": {},
     "output_type": "execute_result"
    }
   ],
   "source": [
    "a"
   ]
  },
  {
   "cell_type": "code",
   "execution_count": 42,
   "id": "c501bbaf-b9ca-47d9-b5c0-8a236bb2f07f",
   "metadata": {},
   "outputs": [],
   "source": [
    "b = np.arange (5,9) .reshape(2,2)"
   ]
  },
  {
   "cell_type": "code",
   "execution_count": 43,
   "id": "fe8c17ec-b5ca-4fe5-a022-62588339d326",
   "metadata": {},
   "outputs": [
    {
     "data": {
      "text/plain": [
       "array([[5, 6],\n",
       "       [7, 8]])"
      ]
     },
     "execution_count": 43,
     "metadata": {},
     "output_type": "execute_result"
    }
   ],
   "source": [
    "b"
   ]
  },
  {
   "cell_type": "code",
   "execution_count": 44,
   "id": "9885ec81-5438-431c-8a21-de7a98942167",
   "metadata": {},
   "outputs": [
    {
     "data": {
      "text/plain": [
       "array([[ 6,  8],\n",
       "       [10, 12]])"
      ]
     },
     "execution_count": 44,
     "metadata": {},
     "output_type": "execute_result"
    }
   ],
   "source": [
    "a+b"
   ]
  },
  {
   "cell_type": "code",
   "execution_count": 45,
   "id": "35778f34-222f-4d21-9db1-90074a6626d6",
   "metadata": {},
   "outputs": [
    {
     "data": {
      "text/plain": [
       "array([[-4, -4],\n",
       "       [-4, -4]])"
      ]
     },
     "execution_count": 45,
     "metadata": {},
     "output_type": "execute_result"
    }
   ],
   "source": [
    "a-b"
   ]
  },
  {
   "cell_type": "code",
   "execution_count": 46,
   "id": "c7f671bd-03bd-4fcb-a467-30d7cde49377",
   "metadata": {},
   "outputs": [
    {
     "data": {
      "text/plain": [
       "array([[ 1,  4],\n",
       "       [ 9, 16]])"
      ]
     },
     "execution_count": 46,
     "metadata": {},
     "output_type": "execute_result"
    }
   ],
   "source": [
    "a**2"
   ]
  },
  {
   "cell_type": "code",
   "execution_count": 47,
   "id": "88329a76-e541-4827-b526-8cc946a30eec",
   "metadata": {},
   "outputs": [
    {
     "data": {
      "text/plain": [
       "array([[1, 2],\n",
       "       [3, 4]])"
      ]
     },
     "execution_count": 47,
     "metadata": {},
     "output_type": "execute_result"
    }
   ],
   "source": [
    "a"
   ]
  },
  {
   "cell_type": "code",
   "execution_count": 48,
   "id": "8c1fa611-b281-4ceb-a71c-f15f7009593a",
   "metadata": {},
   "outputs": [
    {
     "data": {
      "text/plain": [
       "array([[ 0.84147098,  0.90929743],\n",
       "       [ 0.14112001, -0.7568025 ]])"
      ]
     },
     "execution_count": 48,
     "metadata": {},
     "output_type": "execute_result"
    }
   ],
   "source": [
    "np.sin(a)"
   ]
  },
  {
   "cell_type": "code",
   "execution_count": 49,
   "id": "b8c08b61-c838-4e71-8b2d-b97ecf1ac279",
   "metadata": {},
   "outputs": [
    {
     "data": {
      "text/plain": [
       "array([[1.        , 1.41421356],\n",
       "       [1.73205081, 2.        ]])"
      ]
     },
     "execution_count": 49,
     "metadata": {},
     "output_type": "execute_result"
    }
   ],
   "source": [
    "np.sqrt(a)"
   ]
  },
  {
   "cell_type": "code",
   "execution_count": 50,
   "id": "4ea94fca-a577-47eb-9c6b-da17943346f5",
   "metadata": {},
   "outputs": [],
   "source": [
    "#hstack --> it will combined all the arrays in horizontally.\n",
    "#vstcak --> it will combined all the arrays in vertically ."
   ]
  },
  {
   "cell_type": "code",
   "execution_count": 51,
   "id": "c04834b5-5722-4ea4-be34-4abcf2e9209c",
   "metadata": {},
   "outputs": [],
   "source": [
    "a = np.array([1,2,3,4])\n",
    "b = np.array([5,6,7,8])\n",
    "c = np.array([10,11,12,13])"
   ]
  },
  {
   "cell_type": "code",
   "execution_count": 52,
   "id": "86631a08-d2ae-4b26-9127-41452ea423bb",
   "metadata": {},
   "outputs": [
    {
     "data": {
      "text/plain": [
       "array([1, 2, 3, 4, 5, 6, 7, 8])"
      ]
     },
     "execution_count": 52,
     "metadata": {},
     "output_type": "execute_result"
    }
   ],
   "source": [
    "np.hstack((a,b))"
   ]
  },
  {
   "cell_type": "code",
   "execution_count": 53,
   "id": "2d27d32d-5e83-4f1e-98c4-c4ffb3ebb799",
   "metadata": {},
   "outputs": [
    {
     "data": {
      "text/plain": [
       "array([ 1,  2,  3,  4,  5,  6,  7,  8, 10, 11, 12, 13])"
      ]
     },
     "execution_count": 53,
     "metadata": {},
     "output_type": "execute_result"
    }
   ],
   "source": [
    "np.hstack((a,b,c))"
   ]
  },
  {
   "cell_type": "code",
   "execution_count": 54,
   "id": "e379e39f-1297-4911-86ce-fa70ded68a1f",
   "metadata": {},
   "outputs": [
    {
     "data": {
      "text/plain": [
       "array([[ 1,  2,  3,  4],\n",
       "       [ 5,  6,  7,  8],\n",
       "       [10, 11, 12, 13]])"
      ]
     },
     "execution_count": 54,
     "metadata": {},
     "output_type": "execute_result"
    }
   ],
   "source": [
    "np.vstack((a,b,c))"
   ]
  },
  {
   "cell_type": "code",
   "execution_count": null,
   "id": "65d58378-b6b0-45c1-a783-d4a9413f8359",
   "metadata": {},
   "outputs": [],
   "source": []
  },
  {
   "cell_type": "code",
   "execution_count": null,
   "id": "63f73e7b-93ae-458c-bcb1-b56e24a8302e",
   "metadata": {},
   "outputs": [],
   "source": []
  },
  {
   "cell_type": "code",
   "execution_count": null,
   "id": "042b8ad1-0a76-43f4-ac41-959939846a97",
   "metadata": {},
   "outputs": [],
   "source": []
  },
  {
   "cell_type": "code",
   "execution_count": null,
   "id": "935b025e-c2e1-4f38-bf03-b4b0f17b1c00",
   "metadata": {},
   "outputs": [],
   "source": []
  },
  {
   "cell_type": "code",
   "execution_count": null,
   "id": "8e3af9f3-97e4-45d0-a4c8-75c8375530f6",
   "metadata": {},
   "outputs": [],
   "source": []
  },
  {
   "cell_type": "code",
   "execution_count": null,
   "id": "6406291a-c946-40b5-861d-6ec7e6c1b5ae",
   "metadata": {},
   "outputs": [],
   "source": []
  },
  {
   "cell_type": "code",
   "execution_count": null,
   "id": "26f8a991-da8d-4644-a97f-327262b4ce7f",
   "metadata": {},
   "outputs": [],
   "source": []
  },
  {
   "cell_type": "code",
   "execution_count": null,
   "id": "8e40e113-e64b-40cd-b0de-9d727a25dfcf",
   "metadata": {},
   "outputs": [],
   "source": []
  }
 ],
 "metadata": {
  "kernelspec": {
   "display_name": "Python 3 (ipykernel)",
   "language": "python",
   "name": "python3"
  },
  "language_info": {
   "codemirror_mode": {
    "name": "ipython",
    "version": 3
   },
   "file_extension": ".py",
   "mimetype": "text/x-python",
   "name": "python",
   "nbconvert_exporter": "python",
   "pygments_lexer": "ipython3",
   "version": "3.12.7"
  }
 },
 "nbformat": 4,
 "nbformat_minor": 5
}
