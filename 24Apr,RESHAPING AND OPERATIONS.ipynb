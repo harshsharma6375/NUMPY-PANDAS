{
 "cells": [
  {
   "cell_type": "code",
   "execution_count": 32,
   "id": "2713a20b-e525-456d-9477-d9d36d83c821",
   "metadata": {},
   "outputs": [],
   "source": [
    "import numpy as np"
   ]
  },
  {
   "cell_type": "markdown",
   "id": "fb873738-6085-4d1b-bb3f-09591e96d6bb",
   "metadata": {},
   "source": [
    "## Reshaping the Array "
   ]
  },
  {
   "cell_type": "code",
   "execution_count": 2,
   "id": "08cfb30b-a4c6-4df1-912a-ea45d2adfe91",
   "metadata": {},
   "outputs": [],
   "source": [
    "# n(rows) * n(columns) = n(total_elements)\n",
    "\n",
    "# TOTAL_ELEMNETS = 12\n",
    "# 1*12 , 12*1\n",
    "# 2*6 , 6*2\n",
    "# 3*4 , 4*3"
   ]
  },
  {
   "cell_type": "code",
   "execution_count": 4,
   "id": "4dd3ea04-7c0f-4728-abec-7832d053947d",
   "metadata": {},
   "outputs": [
    {
     "data": {
      "text/plain": [
       "array([ 1,  2,  3,  4,  5,  6,  7,  8,  9, 10, 11, 12])"
      ]
     },
     "execution_count": 4,
     "metadata": {},
     "output_type": "execute_result"
    }
   ],
   "source": [
    "a = np.arange(1,13,1)\n",
    "a"
   ]
  },
  {
   "cell_type": "code",
   "execution_count": 5,
   "id": "493139c9-0ade-48e0-88c0-189b27b955bb",
   "metadata": {},
   "outputs": [
    {
     "data": {
      "text/plain": [
       "array([[ 1,  2,  3,  4,  5,  6],\n",
       "       [ 7,  8,  9, 10, 11, 12]])"
      ]
     },
     "execution_count": 5,
     "metadata": {},
     "output_type": "execute_result"
    }
   ],
   "source": [
    "a.reshape(2,6)"
   ]
  },
  {
   "cell_type": "code",
   "execution_count": 6,
   "id": "c5b22e47-df42-4172-bb84-9419b6ff3609",
   "metadata": {},
   "outputs": [
    {
     "data": {
      "text/plain": [
       "array([[ 1,  2,  3,  4],\n",
       "       [ 5,  6,  7,  8],\n",
       "       [ 9, 10, 11, 12]])"
      ]
     },
     "execution_count": 6,
     "metadata": {},
     "output_type": "execute_result"
    }
   ],
   "source": [
    "a.reshape(3,4)"
   ]
  },
  {
   "cell_type": "code",
   "execution_count": 8,
   "id": "7986a9c0-b97c-4f33-8f13-2f3327270462",
   "metadata": {},
   "outputs": [
    {
     "ename": "ValueError",
     "evalue": "cannot reshape array of size 12 into shape (5,2)",
     "output_type": "error",
     "traceback": [
      "\u001b[1;31m---------------------------------------------------------------------------\u001b[0m",
      "\u001b[1;31mValueError\u001b[0m                                Traceback (most recent call last)",
      "Cell \u001b[1;32mIn[8], line 1\u001b[0m\n\u001b[1;32m----> 1\u001b[0m a\u001b[38;5;241m.\u001b[39mreshape(\u001b[38;5;241m5\u001b[39m,\u001b[38;5;241m2\u001b[39m)\n",
      "\u001b[1;31mValueError\u001b[0m: cannot reshape array of size 12 into shape (5,2)"
     ]
    }
   ],
   "source": [
    " a.reshape(5,2) # it menas that the total multiply of rows and column are equal to the elements ."
   ]
  },
  {
   "cell_type": "code",
   "execution_count": null,
   "id": "b3b6166b-a03e-45a5-82e3-93518291eedc",
   "metadata": {},
   "outputs": [],
   "source": []
  },
  {
   "cell_type": "markdown",
   "id": "c3ba6b63-41ff-4687-92c7-8b972d4d583d",
   "metadata": {},
   "source": [
    "## Operation in array"
   ]
  },
  {
   "cell_type": "code",
   "execution_count": 13,
   "id": "48ecc753-7e0a-4fae-81d2-c131112cdba3",
   "metadata": {},
   "outputs": [
    {
     "data": {
      "text/plain": [
       "array([1, 2, 3, 4])"
      ]
     },
     "execution_count": 13,
     "metadata": {},
     "output_type": "execute_result"
    }
   ],
   "source": [
    "a = np.array([1,2,3,4])\n",
    "a"
   ]
  },
  {
   "cell_type": "code",
   "execution_count": 14,
   "id": "c39674b6-e8dd-4646-ac43-ba83cf78d603",
   "metadata": {},
   "outputs": [
    {
     "data": {
      "text/plain": [
       "array([ 1,  4,  9, 16])"
      ]
     },
     "execution_count": 14,
     "metadata": {},
     "output_type": "execute_result"
    }
   ],
   "source": [
    "a**2"
   ]
  },
  {
   "cell_type": "code",
   "execution_count": 15,
   "id": "710dd2ab-a30f-48ed-bb32-0cc56af64090",
   "metadata": {},
   "outputs": [
    {
     "data": {
      "text/plain": [
       "array([ 1,  8, 27, 64], dtype=int32)"
      ]
     },
     "execution_count": 15,
     "metadata": {},
     "output_type": "execute_result"
    }
   ],
   "source": [
    "a**3"
   ]
  },
  {
   "cell_type": "code",
   "execution_count": 17,
   "id": "3349cb8c-97ce-4afc-8647-d8f1042d9624",
   "metadata": {},
   "outputs": [
    {
     "data": {
      "text/plain": [
       "array([[1, 2],\n",
       "       [3, 4]])"
      ]
     },
     "execution_count": 17,
     "metadata": {},
     "output_type": "execute_result"
    }
   ],
   "source": [
    "a = np.arange(1,5).reshape(2,2)\n",
    "a"
   ]
  },
  {
   "cell_type": "code",
   "execution_count": 18,
   "id": "8ea702a2-89ec-4c26-b1e2-4b41707585da",
   "metadata": {},
   "outputs": [
    {
     "data": {
      "text/plain": [
       "array([[5, 6],\n",
       "       [7, 8]])"
      ]
     },
     "execution_count": 18,
     "metadata": {},
     "output_type": "execute_result"
    }
   ],
   "source": [
    "b = np.arange(5,9).reshape(2,2)\n",
    "b"
   ]
  },
  {
   "cell_type": "code",
   "execution_count": 19,
   "id": "d8788e29-6872-40aa-b80a-38ad1d91097a",
   "metadata": {},
   "outputs": [
    {
     "data": {
      "text/plain": [
       "array([[ 6,  8],\n",
       "       [10, 12]])"
      ]
     },
     "execution_count": 19,
     "metadata": {},
     "output_type": "execute_result"
    }
   ],
   "source": [
    "a+b"
   ]
  },
  {
   "cell_type": "code",
   "execution_count": 20,
   "id": "9e35ec0b-8e1e-46a4-82e5-e4e4aaf175f9",
   "metadata": {},
   "outputs": [
    {
     "data": {
      "text/plain": [
       "array([[-4, -4],\n",
       "       [-4, -4]])"
      ]
     },
     "execution_count": 20,
     "metadata": {},
     "output_type": "execute_result"
    }
   ],
   "source": [
    "a-b"
   ]
  },
  {
   "cell_type": "code",
   "execution_count": 21,
   "id": "93745c43-580d-42cb-a7a5-4802617ce30c",
   "metadata": {},
   "outputs": [
    {
     "data": {
      "text/plain": [
       "array([[ 5, 12],\n",
       "       [21, 32]])"
      ]
     },
     "execution_count": 21,
     "metadata": {},
     "output_type": "execute_result"
    }
   ],
   "source": [
    "a*b ## not performed as same add and subt"
   ]
  },
  {
   "cell_type": "code",
   "execution_count": 22,
   "id": "acc6c791-704d-4261-b05f-b2d2b5452b08",
   "metadata": {},
   "outputs": [
    {
     "data": {
      "text/plain": [
       "array([[19, 22],\n",
       "       [43, 50]])"
      ]
     },
     "execution_count": 22,
     "metadata": {},
     "output_type": "execute_result"
    }
   ],
   "source": [
    "a.dot(b)"
   ]
  },
  {
   "cell_type": "code",
   "execution_count": 24,
   "id": "d0c38d37-9d81-4d61-8ed3-5a1b5921f643",
   "metadata": {},
   "outputs": [
    {
     "data": {
      "text/plain": [
       "array([1, 2, 3, 4, 5, 6, 7, 8, 9])"
      ]
     },
     "execution_count": 24,
     "metadata": {},
     "output_type": "execute_result"
    }
   ],
   "source": [
    "a = np.arange(1,10)\n",
    "a"
   ]
  },
  {
   "cell_type": "code",
   "execution_count": 26,
   "id": "c7b4f8b5-143e-445d-9848-93d82a76dcb6",
   "metadata": {},
   "outputs": [
    {
     "data": {
      "text/plain": [
       "array([[1, 2, 3],\n",
       "       [4, 5, 6],\n",
       "       [7, 8, 9]])"
      ]
     },
     "execution_count": 26,
     "metadata": {},
     "output_type": "execute_result"
    }
   ],
   "source": [
    "a = a.reshape(3,3)\n",
    "a"
   ]
  },
  {
   "cell_type": "code",
   "execution_count": 27,
   "id": "7973a313-eb45-4e36-9f5b-924aa503a696",
   "metadata": {},
   "outputs": [
    {
     "data": {
      "text/plain": [
       "45"
      ]
     },
     "execution_count": 27,
     "metadata": {},
     "output_type": "execute_result"
    }
   ],
   "source": [
    "np.sum(a)"
   ]
  },
  {
   "cell_type": "code",
   "execution_count": 28,
   "id": "31a37572-45aa-4687-ab83-d1d2fdff693b",
   "metadata": {},
   "outputs": [
    {
     "data": {
      "text/plain": [
       "array([12, 15, 18])"
      ]
     },
     "execution_count": 28,
     "metadata": {},
     "output_type": "execute_result"
    }
   ],
   "source": [
    "np.sum(a,axis = 0) # it returns the sum column wise "
   ]
  },
  {
   "cell_type": "code",
   "execution_count": 29,
   "id": "ed96fa69-d383-4dc6-9385-42e83e57888e",
   "metadata": {},
   "outputs": [
    {
     "data": {
      "text/plain": [
       "array([ 6, 15, 24])"
      ]
     },
     "execution_count": 29,
     "metadata": {},
     "output_type": "execute_result"
    }
   ],
   "source": [
    "np.sum(a,axis = 1) # it returns the sum as row wise "
   ]
  },
  {
   "cell_type": "markdown",
   "id": "e1da5533-519f-4d3c-8d82-cfe463faefa9",
   "metadata": {},
   "source": [
    "#### UNIQUE()"
   ]
  },
  {
   "cell_type": "markdown",
   "id": "b1afb714-c0be-410d-9c27-abd1879e7aa4",
   "metadata": {},
   "source": [
    "it will return unique elements of array and its indexing and total occurence ."
   ]
  },
  {
   "cell_type": "code",
   "execution_count": 30,
   "id": "81d1da38-466a-416e-92d1-346b0179e306",
   "metadata": {},
   "outputs": [
    {
     "data": {
      "text/plain": [
       "(array([1, 2, 3, 4, 5]),\n",
       " array([0, 1, 5, 6, 8], dtype=int64),\n",
       " array([2, 3, 1, 2, 1], dtype=int64))"
      ]
     },
     "execution_count": 30,
     "metadata": {},
     "output_type": "execute_result"
    }
   ],
   "source": [
    "a = np.array([1,2,2,1,2,3,4,4,5])\n",
    "np.unique(a,return_index = True , return_counts = True)"
   ]
  },
  {
   "cell_type": "code",
   "execution_count": 31,
   "id": "11d8fe71-8cfb-49ff-ba4a-3eaa7ca334c9",
   "metadata": {},
   "outputs": [],
   "source": [
    "# first return the elements \n",
    "# second return the indexing of an elements\n",
    "# third return the count of a elements"
   ]
  },
  {
   "cell_type": "markdown",
   "id": "40f71dcf-e29b-4d6f-82fe-ca7b71bc90a4",
   "metadata": {},
   "source": [
    "#### LINSPACE()"
   ]
  },
  {
   "cell_type": "markdown",
   "id": "25758290-17de-424a-8330-a037e8a8ee01",
   "metadata": {},
   "source": [
    "It will create an array in which gap of values will be equal."
   ]
  },
  {
   "cell_type": "code",
   "execution_count": 39,
   "id": "bc183377-647f-4908-9504-c21f2e935cef",
   "metadata": {},
   "outputs": [
    {
     "data": {
      "text/plain": [
       "array([1.  , 1.25, 1.5 , 1.75, 2.  ])"
      ]
     },
     "execution_count": 39,
     "metadata": {},
     "output_type": "execute_result"
    }
   ],
   "source": [
    "a = np.linspace(1,2,5)\n",
    "a"
   ]
  },
  {
   "cell_type": "markdown",
   "id": "a2212630-dc2d-4345-8e29-7a21a1e7ce06",
   "metadata": {},
   "source": [
    "####  Hstack and Vstack"
   ]
  },
  {
   "cell_type": "markdown",
   "id": "4ea44a26-db80-4cd9-a941-06c531b52e3e",
   "metadata": {},
   "source": [
    " np.hstack – Horizontal Stack\n",
    "\n",
    "Stacks arrays horizontally (i.e., along columns).\n",
    "\n",
    "The arrays must have the same number of rows."
   ]
  },
  {
   "cell_type": "code",
   "execution_count": 40,
   "id": "37664469-10fe-4a44-ac3f-61e3d8d5606c",
   "metadata": {},
   "outputs": [],
   "source": [
    "a = np.array([1,2,3,4])\n",
    "b = np.array([5,6,7,8])\n",
    "c = np.array([9,10,11,12])"
   ]
  },
  {
   "cell_type": "code",
   "execution_count": 41,
   "id": "ffe3bb2a-28b9-45db-a517-e015ce59474d",
   "metadata": {
    "scrolled": true
   },
   "outputs": [
    {
     "data": {
      "text/plain": [
       "array([ 1,  2,  3,  4,  5,  6,  7,  8,  9, 10, 11, 12])"
      ]
     },
     "execution_count": 41,
     "metadata": {},
     "output_type": "execute_result"
    }
   ],
   "source": [
    "np.hstack((a,b,c))"
   ]
  },
  {
   "cell_type": "code",
   "execution_count": 46,
   "id": "2ca16837-4a8e-40af-adf3-bb49b72756c7",
   "metadata": {},
   "outputs": [],
   "source": [
    "\n",
    "\n",
    "a = np.array([[1, 2],\n",
    "              [3, 4]])\n",
    "\n",
    "b = np.array([[5, 6],\n",
    "              [7, 8]])\n",
    "\n",
    "result = np.hstack((a, b))\n",
    "\n",
    "# Output:\n",
    "# [[1 2 5 6]\n",
    "#  [3 4 7 8]]\n"
   ]
  },
  {
   "cell_type": "code",
   "execution_count": null,
   "id": "5e651cf4-9bfd-4ff1-8866-bd920851d2f7",
   "metadata": {},
   "outputs": [],
   "source": []
  },
  {
   "cell_type": "markdown",
   "id": "42f5d757-151f-411e-b078-836cc386f537",
   "metadata": {},
   "source": [
    " np.vstack – Vertical Stack\n",
    "\n",
    "Stacks arrays vertically (i.e., along rows).\n",
    "\n",
    "The arrays must have the same number of columns.\n"
   ]
  },
  {
   "cell_type": "code",
   "execution_count": null,
   "id": "e57d6de4-25d9-40cc-8937-658f267cbc7a",
   "metadata": {},
   "outputs": [],
   "source": []
  },
  {
   "cell_type": "code",
   "execution_count": 42,
   "id": "cfbe8578-fffa-4ec4-bcd3-c5356e777e13",
   "metadata": {},
   "outputs": [
    {
     "data": {
      "text/plain": [
       "array([[ 1,  2,  3,  4],\n",
       "       [ 5,  6,  7,  8],\n",
       "       [ 9, 10, 11, 12]])"
      ]
     },
     "execution_count": 42,
     "metadata": {},
     "output_type": "execute_result"
    }
   ],
   "source": [
    "np.vstack((a,b,c))"
   ]
  },
  {
   "cell_type": "code",
   "execution_count": 52,
   "id": "5717de80-ae05-437c-b6e5-2099afaa84d5",
   "metadata": {},
   "outputs": [],
   "source": [
    "result = np.vstack((a, b))\n"
   ]
  },
  {
   "cell_type": "code",
   "execution_count": 53,
   "id": "372ee1fc-f391-46d8-80f2-8ca28e698e08",
   "metadata": {},
   "outputs": [],
   "source": [
    "import numpy as np\n",
    "\n",
    "a = np.array([[1, 2],\n",
    "              [3, 4]])\n",
    "\n",
    "b = np.array([[5, 6],\n",
    "              [7, 8]])\n",
    "\n",
    "result = np.hstack((a, b))\n",
    "\n",
    "# Output:\n",
    "# [[1 2 5 6]\n",
    "#  [3 4 7 8]]\n"
   ]
  },
  {
   "cell_type": "code",
   "execution_count": null,
   "id": "5e958525-9350-4abb-ad43-b6c2ed8e5cf9",
   "metadata": {},
   "outputs": [],
   "source": []
  }
 ],
 "metadata": {
  "kernelspec": {
   "display_name": "Python 3 (ipykernel)",
   "language": "python",
   "name": "python3"
  },
  "language_info": {
   "codemirror_mode": {
    "name": "ipython",
    "version": 3
   },
   "file_extension": ".py",
   "mimetype": "text/x-python",
   "name": "python",
   "nbconvert_exporter": "python",
   "pygments_lexer": "ipython3",
   "version": "3.12.7"
  }
 },
 "nbformat": 4,
 "nbformat_minor": 5
}
