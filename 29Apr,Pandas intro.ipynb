{
 "cells": [
  {
   "cell_type": "markdown",
   "id": "27356447-0e48-4172-8c7b-e8dbced3e84b",
   "metadata": {},
   "source": [
    "## PANDAS Introduction --> \n",
    "\n",
    "One of the most powerful  and open-source Python libraries for data analysis and manipulation. 🐼📊"
   ]
  },
  {
   "cell_type": "markdown",
   "id": "d8b6f305-ae8b-4464-ba85-abb32f2a2361",
   "metadata": {},
   "source": [
    "1) Pandas is a Python library used to:\n",
    "\n",
    "2) Work with tabular data (like Excel, CSV, databases)\n",
    "\n",
    "3) Handle and clean dataframes\n",
    "\n",
    "4) Perform filtering, sorting, grouping, merging, and much more"
   ]
  },
  {
   "cell_type": "markdown",
   "id": "59fa9ef2-008a-45cf-83c9-2aef078aeb16",
   "metadata": {},
   "source": [
    "It provides two main data structures:\n",
    " \n",
    "Structure\t   /    Description\n",
    "\n",
    "Series\t  ---->   1D labeled array (like a column)\n",
    "\n",
    "DataFrame ---->\t  2D table with rows & columns (like Excel or SQL table)"
   ]
  },
  {
   "cell_type": "code",
   "execution_count": null,
   "id": "7369a3c7-1dfb-4ba7-bf31-3331b526ab49",
   "metadata": {},
   "outputs": [],
   "source": [
    "#!pip install pandas --> intalling of pandas "
   ]
  },
  {
   "cell_type": "code",
   "execution_count": 1,
   "id": "8c4023ac-7d60-4b0b-834d-3b4e20ebe1e1",
   "metadata": {},
   "outputs": [],
   "source": [
    "import pandas as pd    #  --> importing of pandas "
   ]
  },
  {
   "cell_type": "code",
   "execution_count": 2,
   "id": "ef621ae2-5581-4493-bbb7-dd9bab0be9a7",
   "metadata": {},
   "outputs": [],
   "source": [
    "# data Structure of pandas \n",
    "# a) Series --> It is one - dimensional array and its shows only vaulues.\n",
    "# b) DataFrame --> It is multi - dimensional array and it contains values with column name ."
   ]
  },
  {
   "cell_type": "code",
   "execution_count": null,
   "id": "b90e24bf-b068-4154-93ff-964baeedbeb9",
   "metadata": {},
   "outputs": [],
   "source": []
  },
  {
   "cell_type": "markdown",
   "id": "3bfa74a2-7d33-42c2-a814-2b1de0fd276f",
   "metadata": {},
   "source": [
    "##  (a) . Series"
   ]
  },
  {
   "cell_type": "code",
   "execution_count": 4,
   "id": "9bbb07b1-d541-4f68-b994-bc5e10cbc9a4",
   "metadata": {},
   "outputs": [
    {
     "data": {
      "text/plain": [
       "0    1\n",
       "1    2\n",
       "2    3\n",
       "3    4\n",
       "dtype: int64"
      ]
     },
     "execution_count": 4,
     "metadata": {},
     "output_type": "execute_result"
    }
   ],
   "source": [
    "a = pd.Series([1,2,3,4])\n",
    "a"
   ]
  },
  {
   "cell_type": "code",
   "execution_count": 5,
   "id": "b73f1c6a-107c-439b-8ef8-07b4b8115fec",
   "metadata": {},
   "outputs": [
    {
     "data": {
      "text/plain": [
       "pandas.core.series.Series"
      ]
     },
     "execution_count": 5,
     "metadata": {},
     "output_type": "execute_result"
    }
   ],
   "source": [
    "type(a)"
   ]
  },
  {
   "cell_type": "markdown",
   "id": "23e643dd-10ec-4081-bb4a-3b16543eb0e3",
   "metadata": {},
   "source": [
    "## (b) . DataFrame "
   ]
  },
  {
   "cell_type": "code",
   "execution_count": 9,
   "id": "7fb1234e-8071-48da-8d47-8824eac21bd6",
   "metadata": {},
   "outputs": [],
   "source": [
    "a = {\n",
    "    \"Emp_ID\" : [1,2,3,4,5],\n",
    "    \"Name\" : [\"sam\",\"raj\",\"rahul\",\"rohan\",\"pallavi\"],\n",
    "    \"department\": ['IT','Sales','IT','sales','IT'],\n",
    "    \"salary\" : [20000,25000,14555,13555,25003]\n",
    "}"
   ]
  },
  {
   "cell_type": "code",
   "execution_count": 10,
   "id": "9a01793e-f4db-4493-8b57-f02137a6ec1e",
   "metadata": {},
   "outputs": [
    {
     "data": {
      "text/html": [
       "<div>\n",
       "<style scoped>\n",
       "    .dataframe tbody tr th:only-of-type {\n",
       "        vertical-align: middle;\n",
       "    }\n",
       "\n",
       "    .dataframe tbody tr th {\n",
       "        vertical-align: top;\n",
       "    }\n",
       "\n",
       "    .dataframe thead th {\n",
       "        text-align: right;\n",
       "    }\n",
       "</style>\n",
       "<table border=\"1\" class=\"dataframe\">\n",
       "  <thead>\n",
       "    <tr style=\"text-align: right;\">\n",
       "      <th></th>\n",
       "      <th>Emp_ID</th>\n",
       "      <th>Name</th>\n",
       "      <th>department</th>\n",
       "      <th>salary</th>\n",
       "    </tr>\n",
       "  </thead>\n",
       "  <tbody>\n",
       "    <tr>\n",
       "      <th>0</th>\n",
       "      <td>1</td>\n",
       "      <td>sam</td>\n",
       "      <td>IT</td>\n",
       "      <td>20000</td>\n",
       "    </tr>\n",
       "    <tr>\n",
       "      <th>1</th>\n",
       "      <td>2</td>\n",
       "      <td>raj</td>\n",
       "      <td>Sales</td>\n",
       "      <td>25000</td>\n",
       "    </tr>\n",
       "    <tr>\n",
       "      <th>2</th>\n",
       "      <td>3</td>\n",
       "      <td>rahul</td>\n",
       "      <td>IT</td>\n",
       "      <td>14555</td>\n",
       "    </tr>\n",
       "    <tr>\n",
       "      <th>3</th>\n",
       "      <td>4</td>\n",
       "      <td>rohan</td>\n",
       "      <td>sales</td>\n",
       "      <td>13555</td>\n",
       "    </tr>\n",
       "    <tr>\n",
       "      <th>4</th>\n",
       "      <td>5</td>\n",
       "      <td>pallavi</td>\n",
       "      <td>IT</td>\n",
       "      <td>25003</td>\n",
       "    </tr>\n",
       "  </tbody>\n",
       "</table>\n",
       "</div>"
      ],
      "text/plain": [
       "   Emp_ID     Name department  salary\n",
       "0       1      sam         IT   20000\n",
       "1       2      raj      Sales   25000\n",
       "2       3    rahul         IT   14555\n",
       "3       4    rohan      sales   13555\n",
       "4       5  pallavi         IT   25003"
      ]
     },
     "execution_count": 10,
     "metadata": {},
     "output_type": "execute_result"
    }
   ],
   "source": [
    "df = pd.DataFrame(a)\n",
    "df"
   ]
  },
  {
   "cell_type": "code",
   "execution_count": 11,
   "id": "b9fb9c43-d21d-44cb-9ce0-0445417b2bd8",
   "metadata": {},
   "outputs": [
    {
     "ename": "SyntaxError",
     "evalue": "(unicode error) 'unicodeescape' codec can't decode bytes in position 2-3: truncated \\UXXXXXXXX escape (676237765.py, line 1)",
     "output_type": "error",
     "traceback": [
      "\u001b[1;36m  Cell \u001b[1;32mIn[11], line 1\u001b[1;36m\u001b[0m\n\u001b[1;33m    df.to_csv(\"C:\\Users\\HP\\OneDrive\\Desktop\\regex python - Copy\\PANDAS\\29Apr,Pandas intro.ipynb\"\u001b[0m\n\u001b[1;37m              ^\u001b[0m\n\u001b[1;31mSyntaxError\u001b[0m\u001b[1;31m:\u001b[0m (unicode error) 'unicodeescape' codec can't decode bytes in position 2-3: truncated \\UXXXXXXXX escape\n"
     ]
    }
   ],
   "source": [
    "df.to_csv(\"C:\\Users\\HP\\OneDrive\\Desktop\\regex python - Copy\\PANDAS\\29Apr,Pandas intro.ipynb\""
   ]
  },
  {
   "cell_type": "code",
   "execution_count": null,
   "id": "f42eb3d4-ab45-4cf5-bcbf-2645ad9445b1",
   "metadata": {},
   "outputs": [],
   "source": [
    "      arr = np.array([1, 4, 5, 8, 11])\n",
    "a=[]\n",
    "c=[]\n",
    "indicator=0\n",
    "for num in arr:\n",
    "    if num % 2 == 0:\n",
    "        # print(f\"{num} is even\")\n",
    "        a.append(num)\n",
    "        print(a)\n",
    "    else:\n",
    "        # print(f\"{num} is odd\")\n",
    "        c.append(num)\n",
    "        print(c)  "
   ]
  }
 ],
 "metadata": {
  "kernelspec": {
   "display_name": "Python 3 (ipykernel)",
   "language": "python",
   "name": "python3"
  },
  "language_info": {
   "codemirror_mode": {
    "name": "ipython",
    "version": 3
   },
   "file_extension": ".py",
   "mimetype": "text/x-python",
   "name": "python",
   "nbconvert_exporter": "python",
   "pygments_lexer": "ipython3",
   "version": "3.12.7"
  }
 },
 "nbformat": 4,
 "nbformat_minor": 5
}
