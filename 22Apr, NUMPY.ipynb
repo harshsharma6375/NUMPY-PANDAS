{
 "cells": [
  {
   "cell_type": "markdown",
   "id": "f430c992-1a51-4015-a619-e74888991818",
   "metadata": {},
   "source": [
    "# NUMPY"
   ]
  },
  {
   "cell_type": "markdown",
   "id": "d5570c45-faff-411b-bb49-e1390a32a153",
   "metadata": {},
   "source": [
    "NumPy is a super powerful Python library for numerical computing — mainly used for:\n",
    "\n",
    "working with arrays (ndarray)\n",
    "\n",
    "performing fast mathematical operations\n",
    "\n",
    "handling linear algebra, Fourier transforms, and random number generation.\n",
    "\n"
   ]
  },
  {
   "cell_type": "markdown",
   "id": "117a36b9-227d-4682-919e-f356f2efbda1",
   "metadata": {},
   "source": [
    "# installing NUMPY"
   ]
  },
  {
   "cell_type": "code",
   "execution_count": null,
   "id": "bc629735-ee0e-46df-bc3e-095209ed2687",
   "metadata": {
    "jp-MarkdownHeadingCollapsed": true
   },
   "outputs": [],
   "source": [
    "# numpy is an open source library that is used for scientific calculations .\n",
    "\n",
    "## why numpy is better than list ?\n",
    "# 1) list is heterogenous data typr anf numpy homogenous data type \n",
    "# 2) list take more memory as compare to numpy\n",
    "# 3) list tale more time execution as compare to numpy . "
   ]
  },
  {
   "cell_type": "code",
   "execution_count": 1,
   "id": "ad3bc2ea-5220-4aa6-a079-6c33b6349c01",
   "metadata": {},
   "outputs": [],
   "source": [
    "# !pip install numpy"
   ]
  },
  {
   "cell_type": "code",
   "execution_count": 2,
   "id": "81387d9b-ff4e-4e81-ad4a-9e7ea63b2c8c",
   "metadata": {},
   "outputs": [],
   "source": [
    "import numpy as np"
   ]
  },
  {
   "cell_type": "code",
   "execution_count": 3,
   "id": "03e01548-0e78-41f2-bc10-85e1c0347628",
   "metadata": {},
   "outputs": [
    {
     "data": {
      "text/plain": [
       "list"
      ]
     },
     "execution_count": 3,
     "metadata": {},
     "output_type": "execute_result"
    }
   ],
   "source": [
    "a = [1,45,90]\n",
    "type (a)"
   ]
  },
  {
   "cell_type": "code",
   "execution_count": 5,
   "id": "4dde466f-a14f-4448-9ce8-b83c9de0a1e9",
   "metadata": {},
   "outputs": [
    {
     "data": {
      "text/plain": [
       "array([ 1, 45, 90])"
      ]
     },
     "execution_count": 5,
     "metadata": {},
     "output_type": "execute_result"
    }
   ],
   "source": [
    "b = np.array(a)\n",
    "b"
   ]
  },
  {
   "cell_type": "code",
   "execution_count": 6,
   "id": "6cb23a5b-7bad-435e-8d9e-916fb9b1633b",
   "metadata": {},
   "outputs": [
    {
     "data": {
      "text/plain": [
       "numpy.ndarray"
      ]
     },
     "execution_count": 6,
     "metadata": {},
     "output_type": "execute_result"
    }
   ],
   "source": [
    "type (b)"
   ]
  },
  {
   "cell_type": "markdown",
   "id": "c23a6004-7a9a-4e61-807d-8935f64feb87",
   "metadata": {},
   "source": [
    "# how can we create user  defined array ? "
   ]
  },
  {
   "cell_type": "code",
   "execution_count": 7,
   "id": "029a5257-7572-405b-ae9c-28b669f6cf88",
   "metadata": {},
   "outputs": [
    {
     "name": "stdin",
     "output_type": "stream",
     "text": [
      "enter size 4\n",
      "enter number: 12\n",
      "enter number: 45\n",
      "enter number: 67\n",
      "enter number: 89\n"
     ]
    },
    {
     "data": {
      "text/plain": [
       "array([12, 45, 67, 89])"
      ]
     },
     "execution_count": 7,
     "metadata": {},
     "output_type": "execute_result"
    }
   ],
   "source": [
    "a = []\n",
    "size = int(input(\"enter size\"))\n",
    "for i in range (size):\n",
    "    val = int(input(\"enter number:\"))\n",
    "    a.append(val)\n",
    "\n",
    "#print(a)\n",
    "b = np.array(a)\n",
    "b"
   ]
  },
  {
   "cell_type": "code",
   "execution_count": 9,
   "id": "557b9bf4-47dc-4804-a77d-0d18c635ab56",
   "metadata": {},
   "outputs": [
    {
     "data": {
      "text/plain": [
       "numpy.ndarray"
      ]
     },
     "execution_count": 9,
     "metadata": {},
     "output_type": "execute_result"
    }
   ],
   "source": [
    "type (b)"
   ]
  },
  {
   "cell_type": "markdown",
   "id": "71a4b2e8-047c-4af3-8f65-f44b775108f0",
   "metadata": {},
   "source": [
    "# how can we check shape , size and dimension of an array ? "
   ]
  },
  {
   "cell_type": "code",
   "execution_count": 10,
   "id": "e0b0c53d-1ee4-42c5-bd29-82f3fc0790e3",
   "metadata": {},
   "outputs": [
    {
     "data": {
      "text/plain": [
       "array([[ 1,  2,  3,  4],\n",
       "       [ 4,  5,  6,  7],\n",
       "       [ 8,  9, 10, 11]])"
      ]
     },
     "execution_count": 10,
     "metadata": {},
     "output_type": "execute_result"
    }
   ],
   "source": [
    "a = [[1,2,3,4,],[4,5,6,7],[8,9,10,11]]\n",
    "b = np.array(a)\n",
    "b"
   ]
  },
  {
   "cell_type": "code",
   "execution_count": 11,
   "id": "2f346f5e-b659-4f7d-adef-1dfbef01eb67",
   "metadata": {},
   "outputs": [
    {
     "name": "stdout",
     "output_type": "stream",
     "text": [
      "total shape =  (3, 4)\n"
     ]
    }
   ],
   "source": [
    "print(\"total shape = \", b.shape) ##shape = n(rows) , n(columns)\n"
   ]
  },
  {
   "cell_type": "code",
   "execution_count": 12,
   "id": "6895362f-e2ce-489f-b612-ce58e7f35057",
   "metadata": {},
   "outputs": [
    {
     "name": "stdout",
     "output_type": "stream",
     "text": [
      "total elements =  12\n"
     ]
    }
   ],
   "source": [
    "print(\"total elements = \" , b.size) ### size = n(rows) * n(columns)"
   ]
  },
  {
   "cell_type": "code",
   "execution_count": 13,
   "id": "e1beec7c-a3d0-4d00-8f4e-97ef2d619e9c",
   "metadata": {},
   "outputs": [
    {
     "name": "stdout",
     "output_type": "stream",
     "text": [
      "total dimension =  2\n"
     ]
    }
   ],
   "source": [
    "print(\"total dimension = \" , b.ndim) ### ndim stands for n_dimensions---> 2(x,y)"
   ]
  },
  {
   "cell_type": "markdown",
   "id": "9da77212-6da1-496b-a965-d0e3f638d367",
   "metadata": {},
   "source": [
    "#### pre deifned functions in numpy "
   ]
  },
  {
   "cell_type": "code",
   "execution_count": 14,
   "id": "e244395a-1e48-4b8d-886a-7121c3693e03",
   "metadata": {},
   "outputs": [],
   "source": [
    "# zeros() ----> it will return an array in which all the values all the values be 0 in .\n",
    "# either one - dimensional or multi - dimensional "
   ]
  },
  {
   "cell_type": "code",
   "execution_count": 15,
   "id": "e27fa391-6d63-4716-af7f-732b314675e6",
   "metadata": {},
   "outputs": [
    {
     "data": {
      "text/plain": [
       "array([0., 0., 0.])"
      ]
     },
     "execution_count": 15,
     "metadata": {},
     "output_type": "execute_result"
    }
   ],
   "source": [
    "a = np.zeros(3)\n",
    "a"
   ]
  },
  {
   "cell_type": "code",
   "execution_count": null,
   "id": "01f570ca-95b7-48cf-9e5d-d39faa3cdf21",
   "metadata": {},
   "outputs": [],
   "source": []
  },
  {
   "cell_type": "code",
   "execution_count": 18,
   "id": "36df34d4-5b8e-4477-85d8-4e1a5de595a1",
   "metadata": {},
   "outputs": [
    {
     "data": {
      "text/plain": [
       "array([[0., 0., 0.],\n",
       "       [0., 0., 0.],\n",
       "       [0., 0., 0.]])"
      ]
     },
     "execution_count": 18,
     "metadata": {},
     "output_type": "execute_result"
    }
   ],
   "source": [
    "b = np.zeros((3,3))\n",
    "b"
   ]
  },
  {
   "cell_type": "code",
   "execution_count": 20,
   "id": "2bc94f7a-55d4-4a21-b667-3f488386ffb4",
   "metadata": {},
   "outputs": [
    {
     "name": "stdout",
     "output_type": "stream",
     "text": [
      "total shape =  (3,)\n",
      "total elements =  3\n"
     ]
    }
   ],
   "source": [
    "print(\"total shape = \",a.shape )\n",
    "print(\"total elements = \",a.size)"
   ]
  },
  {
   "cell_type": "code",
   "execution_count": 21,
   "id": "196d95d0-be08-4e3d-985a-d513eb303bb8",
   "metadata": {},
   "outputs": [
    {
     "name": "stdout",
     "output_type": "stream",
     "text": [
      "total shape =  (3, 3)\n",
      "total elements =  9\n"
     ]
    }
   ],
   "source": [
    "print(\"total shape = \",b.shape )\n",
    "print(\"total elements = \",b.size)"
   ]
  },
  {
   "cell_type": "code",
   "execution_count": null,
   "id": "a8970fcb-df90-4b42-ac6e-4e4a58b3be75",
   "metadata": {},
   "outputs": [],
   "source": []
  }
 ],
 "metadata": {
  "kernelspec": {
   "display_name": "Python 3 (ipykernel)",
   "language": "python",
   "name": "python3"
  },
  "language_info": {
   "codemirror_mode": {
    "name": "ipython",
    "version": 3
   },
   "file_extension": ".py",
   "mimetype": "text/x-python",
   "name": "python",
   "nbconvert_exporter": "python",
   "pygments_lexer": "ipython3",
   "version": "3.12.7"
  }
 },
 "nbformat": 4,
 "nbformat_minor": 5
}
